{
  "nbformat": 4,
  "nbformat_minor": 0,
  "metadata": {
    "colab": {
      "name": "atividade2-lista.ipynb",
      "provenance": []
    },
    "kernelspec": {
      "name": "python3",
      "display_name": "Python 3"
    }
  },
  "cells": [
    {
      "cell_type": "code",
      "metadata": {
        "id": "nZ6wncyvTeFx",
        "colab_type": "code",
        "colab": {}
      },
      "source": [
        "import pandas as pd\n",
        "import numpy as np\n",
        "import matplotlib.pyplot as plt\n",
        "\n",
        "from scipy.io import arff"
      ],
      "execution_count": null,
      "outputs": []
    },
    {
      "cell_type": "code",
      "metadata": {
        "id": "o4KLrd94Usqt",
        "colab_type": "code",
        "colab": {}
      },
      "source": [
        "data = arff.loadarff('PhishingData.arff')\n",
        "df = pd.DataFrame(data[0])"
      ],
      "execution_count": null,
      "outputs": []
    },
    {
      "cell_type": "code",
      "metadata": {
        "id": "OV33cj8NMi1i",
        "colab_type": "code",
        "colab": {}
      },
      "source": [
        "# Organizando os dados"
      ],
      "execution_count": null,
      "outputs": []
    },
    {
      "cell_type": "code",
      "metadata": {
        "id": "I_4jKlV-WYTP",
        "colab_type": "code",
        "colab": {}
      },
      "source": [
        "for column in df.columns: \n",
        "  df[column][df[column] == b'1'] = '1'\n",
        "  df[column][df[column] == b'0'] = '0'\n",
        "  df[column][df[column] == b'-1'] = '-1'"
      ],
      "execution_count": null,
      "outputs": []
    },
    {
      "cell_type": "code",
      "metadata": {
        "id": "FB3i1g9EUr5d",
        "colab_type": "code",
        "colab": {
          "base_uri": "https://localhost:8080/",
          "height": 224
        },
        "outputId": "e13e7fd2-21ec-4d27-a496-044832af646f"
      },
      "source": [
        "df.head()"
      ],
      "execution_count": null,
      "outputs": [
        {
          "output_type": "execute_result",
          "data": {
            "text/html": [
              "<div>\n",
              "<style scoped>\n",
              "    .dataframe tbody tr th:only-of-type {\n",
              "        vertical-align: middle;\n",
              "    }\n",
              "\n",
              "    .dataframe tbody tr th {\n",
              "        vertical-align: top;\n",
              "    }\n",
              "\n",
              "    .dataframe thead th {\n",
              "        text-align: right;\n",
              "    }\n",
              "</style>\n",
              "<table border=\"1\" class=\"dataframe\">\n",
              "  <thead>\n",
              "    <tr style=\"text-align: right;\">\n",
              "      <th></th>\n",
              "      <th>SFH</th>\n",
              "      <th>popUpWidnow</th>\n",
              "      <th>SSLfinal_State</th>\n",
              "      <th>Request_URL</th>\n",
              "      <th>URL_of_Anchor</th>\n",
              "      <th>web_traffic</th>\n",
              "      <th>URL_Length</th>\n",
              "      <th>age_of_domain</th>\n",
              "      <th>having_IP_Address</th>\n",
              "      <th>Result</th>\n",
              "    </tr>\n",
              "  </thead>\n",
              "  <tbody>\n",
              "    <tr>\n",
              "      <th>0</th>\n",
              "      <td>1</td>\n",
              "      <td>-1</td>\n",
              "      <td>1</td>\n",
              "      <td>-1</td>\n",
              "      <td>-1</td>\n",
              "      <td>1</td>\n",
              "      <td>1</td>\n",
              "      <td>1</td>\n",
              "      <td>0</td>\n",
              "      <td>0</td>\n",
              "    </tr>\n",
              "    <tr>\n",
              "      <th>1</th>\n",
              "      <td>-1</td>\n",
              "      <td>-1</td>\n",
              "      <td>-1</td>\n",
              "      <td>-1</td>\n",
              "      <td>-1</td>\n",
              "      <td>0</td>\n",
              "      <td>1</td>\n",
              "      <td>1</td>\n",
              "      <td>1</td>\n",
              "      <td>1</td>\n",
              "    </tr>\n",
              "    <tr>\n",
              "      <th>2</th>\n",
              "      <td>1</td>\n",
              "      <td>-1</td>\n",
              "      <td>0</td>\n",
              "      <td>0</td>\n",
              "      <td>-1</td>\n",
              "      <td>0</td>\n",
              "      <td>-1</td>\n",
              "      <td>1</td>\n",
              "      <td>0</td>\n",
              "      <td>1</td>\n",
              "    </tr>\n",
              "    <tr>\n",
              "      <th>3</th>\n",
              "      <td>1</td>\n",
              "      <td>0</td>\n",
              "      <td>1</td>\n",
              "      <td>-1</td>\n",
              "      <td>-1</td>\n",
              "      <td>0</td>\n",
              "      <td>1</td>\n",
              "      <td>1</td>\n",
              "      <td>0</td>\n",
              "      <td>0</td>\n",
              "    </tr>\n",
              "    <tr>\n",
              "      <th>4</th>\n",
              "      <td>-1</td>\n",
              "      <td>-1</td>\n",
              "      <td>1</td>\n",
              "      <td>-1</td>\n",
              "      <td>0</td>\n",
              "      <td>0</td>\n",
              "      <td>-1</td>\n",
              "      <td>1</td>\n",
              "      <td>0</td>\n",
              "      <td>1</td>\n",
              "    </tr>\n",
              "  </tbody>\n",
              "</table>\n",
              "</div>"
            ],
            "text/plain": [
              "  SFH popUpWidnow SSLfinal_State  ... age_of_domain having_IP_Address Result\n",
              "0   1          -1              1  ...             1                 0      0\n",
              "1  -1          -1             -1  ...             1                 1      1\n",
              "2   1          -1              0  ...             1                 0      1\n",
              "3   1           0              1  ...             1                 0      0\n",
              "4  -1          -1              1  ...             1                 0      1\n",
              "\n",
              "[5 rows x 10 columns]"
            ]
          },
          "metadata": {
            "tags": []
          },
          "execution_count": 14
        }
      ]
    },
    {
      "cell_type": "code",
      "metadata": {
        "id": "uDrtYajYWLHG",
        "colab_type": "code",
        "colab": {}
      },
      "source": [
        "# Análise exploratória\n",
        "\n",
        "# Legitimate = 1\n",
        "# Suspicious = 0\n",
        "# Phishy = -1"
      ],
      "execution_count": null,
      "outputs": []
    },
    {
      "cell_type": "code",
      "metadata": {
        "id": "2QyGdY0KxV7g",
        "colab_type": "code",
        "colab": {
          "base_uri": "https://localhost:8080/",
          "height": 663
        },
        "outputId": "0dc113a0-6bb9-49b6-8ba0-e2acbbd29b94"
      },
      "source": [
        "for name in df.columns:\n",
        "  value_count = df[name].value_counts()\n",
        "  print(value_count)"
      ],
      "execution_count": null,
      "outputs": [
        {
          "output_type": "stream",
          "text": [
            "1     767\n",
            "-1    445\n",
            "0     141\n",
            "Name: SFH, dtype: int64\n",
            "0     639\n",
            "-1    532\n",
            "1     182\n",
            "Name: popUpWidnow, dtype: int64\n",
            "1     751\n",
            "-1    308\n",
            "0     294\n",
            "Name: SSLfinal_State, dtype: int64\n",
            "-1    617\n",
            "0     421\n",
            "1     315\n",
            "Name: Request_URL, dtype: int64\n",
            "-1    610\n",
            "1     576\n",
            "0     167\n",
            "Name: URL_of_Anchor, dtype: int64\n",
            "0     473\n",
            "1     440\n",
            "-1    440\n",
            "Name: web_traffic, dtype: int64\n",
            "0     563\n",
            "-1    431\n",
            "1     359\n",
            "Name: URL_Length, dtype: int64\n",
            "1     825\n",
            "-1    528\n",
            "Name: age_of_domain, dtype: int64\n",
            "0    1198\n",
            "1     155\n",
            "Name: having_IP_Address, dtype: int64\n",
            "-1    702\n",
            "1     548\n",
            "0     103\n",
            "Name: Result, dtype: int64\n"
          ],
          "name": "stdout"
        }
      ]
    },
    {
      "cell_type": "code",
      "metadata": {
        "id": "YCw_OtFs4P8D",
        "colab_type": "code",
        "colab": {
          "base_uri": "https://localhost:8080/",
          "height": 204
        },
        "outputId": "ba391a2b-be93-4fcd-92f7-746bcabce141"
      },
      "source": [
        "df.isna().any()"
      ],
      "execution_count": null,
      "outputs": [
        {
          "output_type": "execute_result",
          "data": {
            "text/plain": [
              "SFH                  False\n",
              "popUpWidnow          False\n",
              "SSLfinal_State       False\n",
              "Request_URL          False\n",
              "URL_of_Anchor        False\n",
              "web_traffic          False\n",
              "URL_Length           False\n",
              "age_of_domain        False\n",
              "having_IP_Address    False\n",
              "Result               False\n",
              "dtype: bool"
            ]
          },
          "metadata": {
            "tags": []
          },
          "execution_count": 17
        }
      ]
    },
    {
      "cell_type": "code",
      "metadata": {
        "id": "VhznDPogNAtU",
        "colab_type": "code",
        "colab": {}
      },
      "source": [
        "# Análise exploratória"
      ],
      "execution_count": null,
      "outputs": []
    },
    {
      "cell_type": "code",
      "metadata": {
        "id": "UbfqjkF1n6sq",
        "colab_type": "code",
        "colab": {
          "base_uri": "https://localhost:8080/",
          "height": 281
        },
        "outputId": "20cd5d9f-e1e3-4825-8e2b-04e0911667e4"
      },
      "source": [
        "# Divisão de labels em cada feature:\n",
        "\n",
        "labels = ['SFH',\t'popUp',\t'SSL',\t'URL',\t'URLAnc',\t'traffic',\t'URLen',\t'domain',\t'IPAdd']\n",
        "legitimate = [767, 182, 751, 315, 576, 440, 359, 825, 155]\n",
        "suspicious = [141, 639, 294, 421, 167, 473, 563, 0, 1198]\n",
        "phishy = [445, 532, 308, 617, 610, 440, 431, 528, 0]\n",
        "\n",
        "width = 0.35       # the width of the bars: can also be len(x) sequence\n",
        "\n",
        "fig, ax = plt.subplots()\n",
        "\n",
        "ax.bar(labels, legitimate, width, label='legitimate')\n",
        "ax.bar(labels, suspicious, width, bottom=legitimate, label='suspicious')\n",
        "ax.bar(labels, phishy, width, bottom=suspicious, label='phishy')\n",
        "\n",
        "#ax.set_ylabel('Scores')\n",
        "ax.set_title('Divisão das características no dataset')\n",
        "ax.legend()\n",
        "\n",
        "plt.show()"
      ],
      "execution_count": null,
      "outputs": [
        {
          "output_type": "display_data",
          "data": {
            "image/png": "[encoded data removed]",
            "text/plain": [
              "<Figure size 432x288 with 1 Axes>"
            ]
          },
          "metadata": {
            "tags": [],
            "needs_background": "light"
          }
        }
      ]
    },
    {
      "cell_type": "code",
      "metadata": {
        "id": "X7TtDlK_NIOG",
        "colab_type": "code",
        "colab": {}
      },
      "source": [
        "#Utilizando os classificadores"
      ],
      "execution_count": null,
      "outputs": []
    },
    {
      "cell_type": "code",
      "metadata": {
        "id": "nPau_xvs8Paw",
        "colab_type": "code",
        "colab": {}
      },
      "source": [
        "from sklearn.neighbors import KNeighborsClassifier\n",
        "from sklearn.ensemble import RandomForestClassifier\n",
        "from sklearn.svm import SVC"
      ],
      "execution_count": null,
      "outputs": []
    },
    {
      "cell_type": "code",
      "metadata": {
        "id": "MHsPhbcL-8pB",
        "colab_type": "code",
        "colab": {}
      },
      "source": [
        "clf_knn = KNeighborsClassifier()\n",
        "clf_rand = RandomForestClassifier()\n",
        "clf_svm = SVC()"
      ],
      "execution_count": null,
      "outputs": []
    },
    {
      "cell_type": "code",
      "metadata": {
        "id": "bsKgh6yo_RE7",
        "colab_type": "code",
        "colab": {}
      },
      "source": [
        "X = pd.DataFrame(columns=['SFH', 'popUpWidnow', 'SSLfinal_State', 'Request_URL', 'URL_of_Anchor',\n",
        "       'web_traffic', 'URL_Length', 'age_of_domain', 'having_IP_Address'], data=df)\n",
        "y = np.ravel(pd.DataFrame(columns=['Result'], data=df))"
      ],
      "execution_count": null,
      "outputs": []
    },
    {
      "cell_type": "code",
      "metadata": {
        "id": "onF65B1mBVij",
        "colab_type": "code",
        "colab": {}
      },
      "source": [
        "#Comparação de acordo com precision, recall, F-measure e acurácia"
      ],
      "execution_count": null,
      "outputs": []
    },
    {
      "cell_type": "code",
      "metadata": {
        "id": "7RDmDGFwMLxc",
        "colab_type": "code",
        "colab": {}
      },
      "source": [
        "from sklearn.model_selection import cross_validate\n",
        "from sklearn.metrics import accuracy_score, precision_score, recall_score, make_scorer, f1_score\n",
        "scoring = {'accuracy': make_scorer(accuracy_score), \n",
        "           'precision': make_scorer(precision_score, average='weighted'),\n",
        "           'recall': make_scorer(recall_score, average='weighted'),\n",
        "           'f1_macro': make_scorer(f1_score, average='weighted')}\n",
        "\n",
        "def getMetrics(model, X, y):\n",
        "  score = cross_validate(model, X, y, scoring=scoring)\n",
        "  accuracy = round(score['test_accuracy'].mean(),3)\n",
        "  precision = round(score['test_precision'].mean(),3)\n",
        "  recall = round(score['test_recall'].mean(),3)\n",
        "  f1 = round(score['test_f1_macro'].mean(),3)\n",
        "\n",
        "  return accuracy, precision, recall, f1"
      ],
      "execution_count": null,
      "outputs": []
    },
    {
      "cell_type": "code",
      "metadata": {
        "id": "_nqtv69dPoDO",
        "colab_type": "code",
        "colab": {
          "base_uri": "https://localhost:8080/",
          "height": 68
        },
        "outputId": "16e180c4-4b59-42ac-c27a-c09b0f704e2a"
      },
      "source": [
        "metrics_knn = getMetrics(clf_knn, X, y)\n",
        "metrics_rand = getMetrics(clf_rand, X, y)\n",
        "metrics_svm = getMetrics(clf_svm, X, y)\n",
        "\n",
        "print('Accuracy, precision, recall e f1 p/ KNN: ', metrics_knn)\n",
        "print('Accuracy, precision, recall e f1 p/ Random Forests: ', metrics_rand)\n",
        "print('Accuracy, precision, recall e f1 p/ SVM: ', metrics_svm)"
      ],
      "execution_count": null,
      "outputs": [
        {
          "output_type": "stream",
          "text": [
            "Accuracy, precision, recall e f1 p/ KNN:  (0.871, 0.869, 0.871, 0.869)\n",
            "Accuracy, precision, recall e f1 p/ Random Forests:  (0.899, 0.899, 0.899, 0.898)\n",
            "Accuracy, precision, recall e f1 p/ SVM:  (0.867, 0.859, 0.867, 0.854)\n"
          ],
          "name": "stdout"
        }
      ]
    },
    {
      "cell_type": "code",
      "metadata": {
        "id": "clfbxP297Rf8",
        "colab_type": "code",
        "colab": {
          "base_uri": "https://localhost:8080/",
          "height": 51
        },
        "outputId": "c97367e1-f5f7-4002-a30e-0043347fde74"
      },
      "source": [
        "# Escolhendo as características mais importantes \n",
        "\n",
        "forest_fit = clf_rand.fit(X, y)\n",
        "importance = forest_fit.feature_importances_\n",
        "importance"
      ],
      "execution_count": null,
      "outputs": [
        {
          "output_type": "execute_result",
          "data": {
            "text/plain": [
              "array([0.33391854, 0.13017534, 0.17193814, 0.09785383, 0.09078872,\n",
              "       0.0561811 , 0.07907251, 0.02727378, 0.01279803])"
            ]
          },
          "metadata": {
            "tags": []
          },
          "execution_count": 50
        }
      ]
    },
    {
      "cell_type": "code",
      "metadata": {
        "id": "XAjAx-yjewUO",
        "colab_type": "code",
        "colab": {
          "base_uri": "https://localhost:8080/",
          "height": 51
        },
        "outputId": "5674a534-d50b-4d2e-fd0c-6aa78b30c2c6"
      },
      "source": [
        "from sklearn.feature_selection import SelectFromModel\n",
        "\n",
        "model = SelectFromModel(forest_fit, prefit=True)\n",
        "X_novo = model.transform(X)\n",
        "\n",
        "n_attrs = X_novo.shape[1]\n",
        "\n",
        "idx_most_important = importance.argsort()[-n_attrs:]\n",
        "print(idx_most_important)\n",
        "\n",
        "name_important_attrs = np.array(['SFH', 'popUpWidnow', 'SSLfinal_State', 'Request_URL', 'URL_of_Anchor',\n",
        "       'web_traffic', 'URL_Length', 'age_of_domain', 'having_IP_Address'])[idx_most_important]\n",
        "print(name_important_attrs)"
      ],
      "execution_count": null,
      "outputs": [
        {
          "output_type": "stream",
          "text": [
            "[1 2 0]\n",
            "['popUpWidnow' 'SSLfinal_State' 'SFH']\n"
          ],
          "name": "stdout"
        }
      ]
    },
    {
      "cell_type": "code",
      "metadata": {
        "id": "Y_NxcxpCacOB",
        "colab_type": "code",
        "colab": {
          "base_uri": "https://localhost:8080/",
          "height": 360
        },
        "outputId": "d2e9bf58-e75a-4f49-fb1a-221e0cbc79c3"
      },
      "source": [
        "# Agora, recalculando as métricas: \n",
        "\n",
        "metrics_knn_imp = getMetrics(clf_knn, X_novo, y)\n",
        "metrics_rand_imp = getMetrics(clf_rand, X_novo, y)\n",
        "metrics_svm_imp = getMetrics(clf_svm, X_novo, y)\n",
        "\n",
        "print('Accuracy, precision, recall e f1 p/ KNN (características mais relevantes): ', metrics_knn_imp)\n",
        "print('Accuracy, precision, recall e f1 p/ Random Forests (características mais relevantes): ', metrics_rand_imp)\n",
        "print('Accuracy, precision, recall e f1 p/ SVM (características mais relevantes): ', metrics_svm_imp)"
      ],
      "execution_count": null,
      "outputs": [
        {
          "output_type": "stream",
          "text": [
            "/usr/local/lib/python3.6/dist-packages/sklearn/metrics/_classification.py:1272: UndefinedMetricWarning: Precision is ill-defined and being set to 0.0 in labels with no predicted samples. Use `zero_division` parameter to control this behavior.\n",
            "  _warn_prf(average, modifier, msg_start, len(result))\n",
            "/usr/local/lib/python3.6/dist-packages/sklearn/metrics/_classification.py:1272: UndefinedMetricWarning: Precision is ill-defined and being set to 0.0 in labels with no predicted samples. Use `zero_division` parameter to control this behavior.\n",
            "  _warn_prf(average, modifier, msg_start, len(result))\n",
            "/usr/local/lib/python3.6/dist-packages/sklearn/metrics/_classification.py:1272: UndefinedMetricWarning: Precision is ill-defined and being set to 0.0 in labels with no predicted samples. Use `zero_division` parameter to control this behavior.\n",
            "  _warn_prf(average, modifier, msg_start, len(result))\n",
            "/usr/local/lib/python3.6/dist-packages/sklearn/metrics/_classification.py:1272: UndefinedMetricWarning: Precision is ill-defined and being set to 0.0 in labels with no predicted samples. Use `zero_division` parameter to control this behavior.\n",
            "  _warn_prf(average, modifier, msg_start, len(result))\n",
            "/usr/local/lib/python3.6/dist-packages/sklearn/metrics/_classification.py:1272: UndefinedMetricWarning: Precision is ill-defined and being set to 0.0 in labels with no predicted samples. Use `zero_division` parameter to control this behavior.\n",
            "  _warn_prf(average, modifier, msg_start, len(result))\n"
          ],
          "name": "stderr"
        },
        {
          "output_type": "stream",
          "text": [
            "Accuracy, precision, recall e f1 p/ KNN (características mais relevantes):  (0.825, 0.8, 0.825, 0.807)\n",
            "Accuracy, precision, recall e f1 p/ Random Forests (características mais relevantes):  (0.84, 0.779, 0.84, 0.808)\n",
            "Accuracy, precision, recall e f1 p/ SVM (características mais relevantes):  (0.838, 0.778, 0.838, 0.806)\n"
          ],
          "name": "stdout"
        },
        {
          "output_type": "stream",
          "text": [
            "/usr/local/lib/python3.6/dist-packages/sklearn/metrics/_classification.py:1272: UndefinedMetricWarning: Precision is ill-defined and being set to 0.0 in labels with no predicted samples. Use `zero_division` parameter to control this behavior.\n",
            "  _warn_prf(average, modifier, msg_start, len(result))\n",
            "/usr/local/lib/python3.6/dist-packages/sklearn/metrics/_classification.py:1272: UndefinedMetricWarning: Precision is ill-defined and being set to 0.0 in labels with no predicted samples. Use `zero_division` parameter to control this behavior.\n",
            "  _warn_prf(average, modifier, msg_start, len(result))\n",
            "/usr/local/lib/python3.6/dist-packages/sklearn/metrics/_classification.py:1272: UndefinedMetricWarning: Precision is ill-defined and being set to 0.0 in labels with no predicted samples. Use `zero_division` parameter to control this behavior.\n",
            "  _warn_prf(average, modifier, msg_start, len(result))\n"
          ],
          "name": "stderr"
        }
      ]
    },
    {
      "cell_type": "code",
      "metadata": {
        "id": "wd7lj_TkbyuR",
        "colab_type": "code",
        "colab": {}
      },
      "source": [
        "# Plotando gráficos de barra para comparação de cada métrica"
      ],
      "execution_count": null,
      "outputs": []
    },
    {
      "cell_type": "code",
      "metadata": {
        "id": "CNbpiW-Mcxy-",
        "colab_type": "code",
        "colab": {
          "base_uri": "https://localhost:8080/",
          "height": 297
        },
        "outputId": "928e1469-965e-4ce4-c9f8-cc079588f66f"
      },
      "source": [
        "# Accuracy\n",
        "\n",
        "import matplotlib\n",
        "import matplotlib.pyplot as plt\n",
        "\n",
        "labels = ['KNN', 'RF', 'SVM']\n",
        "metrics = [metrics_knn[0], metrics_rand[0], metrics_svm[0]]\n",
        "metrics_importance = [metrics_knn_imp[0], metrics_rand_imp[0], metrics_svm_imp[0]]\n",
        "\n",
        "loc = np.arange(len(labels))  # the label locations\n",
        "width = 0.35  # the width of the bars\n",
        "loc1 = [x - width/2 for x in loc]\n",
        "loc2 = [x + width/2 for x in loc]\n",
        "\n",
        "fig, ax = plt.subplots()\n",
        "rects1 = ax.bar(loc1, metrics, width, label='All features')\n",
        "rects2 = ax.bar(loc2, metrics_importance, width, label='After feature selection')\n",
        "\n",
        "# Add some text for labels, title and custom x-axis tick labels, etc.\n",
        "ax.set_ylabel('Value')\n",
        "ax.set_title('Accuracy ')\n",
        "ax.set_xticks(loc)\n",
        "ax.set_xticklabels(labels)\n",
        "ax.legend()\n",
        "\n",
        "\n",
        "def autolabel(rects):\n",
        "    \"\"\"Attach a text label above each bar in *rects*, displaying its height.\"\"\"\n",
        "    for rect in rects:\n",
        "        height = rect.get_height()\n",
        "        ax.annotate('{}'.format(height),\n",
        "                    xy=(rect.get_x() + rect.get_width() / 2, height),\n",
        "                    xytext=(0, 3),  # 3 points vertical offset\n",
        "                    textcoords=\"offset points\",\n",
        "                    ha='center', va='bottom')\n",
        "\n",
        "\n",
        "autolabel(rects1)\n",
        "autolabel(rects2)\n",
        "\n",
        "fig.tight_layout()\n",
        "\n",
        "plt.show()"
      ],
      "execution_count": null,
      "outputs": [
        {
          "output_type": "display_data",
          "data": {
            "image/png": "[encoded data removed]",
            "text/plain": [
              "<Figure size 432x288 with 1 Axes>"
            ]
          },
          "metadata": {
            "tags": [],
            "needs_background": "light"
          }
        }
      ]
    },
    {
      "cell_type": "code",
      "metadata": {
        "id": "FMExmR08kFVw",
        "colab_type": "code",
        "colab": {
          "base_uri": "https://localhost:8080/",
          "height": 297
        },
        "outputId": "ded1fbad-6514-4772-a1bf-e0d22db79ac7"
      },
      "source": [
        "# Precision\n",
        "\n",
        "import matplotlib\n",
        "import matplotlib.pyplot as plt\n",
        "\n",
        "labels = ['KNN', 'RF', 'SVM']\n",
        "metrics = [metrics_knn[1], metrics_rand[1], metrics_svm[1]]\n",
        "metrics_importance = [metrics_knn_imp[1], metrics_rand_imp[1], metrics_svm_imp[1]]\n",
        "\n",
        "loc = np.arange(len(labels))  # the label locations\n",
        "width = 0.35  # the width of the bars\n",
        "loc1 = [x - width/2 for x in loc]\n",
        "loc2 = [x + width/2 for x in loc]\n",
        "\n",
        "fig, ax = plt.subplots()\n",
        "rects1 = ax.bar(loc1, metrics, width, label='All features')\n",
        "rects2 = ax.bar(loc2, metrics_importance, width, label='After feature selection')\n",
        "\n",
        "# Add some text for labels, title and custom x-axis tick labels, etc.\n",
        "ax.set_ylabel('Value')\n",
        "ax.set_title('Precision ')\n",
        "ax.set_xticks(loc)\n",
        "ax.set_xticklabels(labels)\n",
        "ax.legend()\n",
        "\n",
        "\n",
        "def autolabel(rects):\n",
        "    \"\"\"Attach a text label above each bar in *rects*, displaying its height.\"\"\"\n",
        "    for rect in rects:\n",
        "        height = rect.get_height()\n",
        "        ax.annotate('{}'.format(height),\n",
        "                    xy=(rect.get_x() + rect.get_width() / 2, height),\n",
        "                    xytext=(0, 3),  # 3 points vertical offset\n",
        "                    textcoords=\"offset points\",\n",
        "                    ha='center', va='bottom')\n",
        "\n",
        "\n",
        "autolabel(rects1)\n",
        "autolabel(rects2)\n",
        "\n",
        "fig.tight_layout()\n",
        "\n",
        "plt.show()"
      ],
      "execution_count": null,
      "outputs": [
        {
          "output_type": "display_data",
          "data": {
            "image/png": "[encoded data removed]",
            "text/plain": [
              "<Figure size 432x288 with 1 Axes>"
            ]
          },
          "metadata": {
            "tags": [],
            "needs_background": "light"
          }
        }
      ]
    },
    {
      "cell_type": "code",
      "metadata": {
        "id": "DI5GqU6BkrXZ",
        "colab_type": "code",
        "colab": {
          "base_uri": "https://localhost:8080/",
          "height": 297
        },
        "outputId": "1ea482b3-9d0c-4b04-e55e-2321d1ee9468"
      },
      "source": [
        "# Recall\n",
        "\n",
        "import matplotlib\n",
        "import matplotlib.pyplot as plt\n",
        "\n",
        "labels = ['KNN', 'RF', 'SVM']\n",
        "metrics = [metrics_knn[2], metrics_rand[2], metrics_svm[2]]\n",
        "metrics_importance = [metrics_knn_imp[2], metrics_rand_imp[2], metrics_svm_imp[2]]\n",
        "\n",
        "loc = np.arange(len(labels))  # the label locations\n",
        "width = 0.35  # the width of the bars\n",
        "loc1 = [x - width/2 for x in loc]\n",
        "loc2 = [x + width/2 for x in loc]\n",
        "\n",
        "fig, ax = plt.subplots()\n",
        "rects1 = ax.bar(loc1, metrics, width, label='All features')\n",
        "rects2 = ax.bar(loc2, metrics_importance, width, label='After feature selection')\n",
        "\n",
        "# Add some text for labels, title and custom x-axis tick labels, etc.\n",
        "ax.set_ylabel('Value')\n",
        "ax.set_title('Recall')\n",
        "ax.set_xticks(loc)\n",
        "ax.set_xticklabels(labels)\n",
        "ax.legend()\n",
        "\n",
        "\n",
        "def autolabel(rects):\n",
        "    \"\"\"Attach a text label above each bar in *rects*, displaying its height.\"\"\"\n",
        "    for rect in rects:\n",
        "        height = rect.get_height()\n",
        "        ax.annotate('{}'.format(height),\n",
        "                    xy=(rect.get_x() + rect.get_width() / 2, height),\n",
        "                    xytext=(0, 3),  # 3 points vertical offset\n",
        "                    textcoords=\"offset points\",\n",
        "                    ha='center', va='bottom')\n",
        "\n",
        "\n",
        "autolabel(rects1)\n",
        "autolabel(rects2)\n",
        "\n",
        "fig.tight_layout()\n",
        "\n",
        "plt.show()"
      ],
      "execution_count": null,
      "outputs": [
        {
          "output_type": "display_data",
          "data": {
            "image/png": "[encoded data removed]",
            "text/plain": [
              "<Figure size 432x288 with 1 Axes>"
            ]
          },
          "metadata": {
            "tags": [],
            "needs_background": "light"
          }
        }
      ]
    },
    {
      "cell_type": "code",
      "metadata": {
        "id": "EuErN1Xjk69p",
        "colab_type": "code",
        "colab": {
          "base_uri": "https://localhost:8080/",
          "height": 297
        },
        "outputId": "cbece82f-fb5c-4bdb-809d-b28e0c8f7709"
      },
      "source": [
        "# F1\n",
        "\n",
        "import matplotlib\n",
        "import matplotlib.pyplot as plt\n",
        "\n",
        "labels = ['KNN', 'RF', 'SVM']\n",
        "metrics = [metrics_knn[3], metrics_rand[3], metrics_svm[3]]\n",
        "metrics_importance = [metrics_knn_imp[3], metrics_rand_imp[3], metrics_svm_imp[3]]\n",
        "\n",
        "loc = np.arange(len(labels))  # the label locations\n",
        "width = 0.35  # the width of the bars\n",
        "loc1 = [x - width/2 for x in loc]\n",
        "loc2 = [x + width/2 for x in loc]\n",
        "\n",
        "fig, ax = plt.subplots()\n",
        "rects1 = ax.bar(loc1, metrics, width, label='All features')\n",
        "rects2 = ax.bar(loc2, metrics_importance, width, label='After feature selection')\n",
        "\n",
        "# Add some text for labels, title and custom x-axis tick labels, etc.\n",
        "ax.set_ylabel('Value')\n",
        "ax.set_title('F1')\n",
        "ax.set_xticks(loc)\n",
        "ax.set_xticklabels(labels)\n",
        "ax.legend()\n",
        "\n",
        "\n",
        "def autolabel(rects):\n",
        "    \"\"\"Attach a text label above each bar in *rects*, displaying its height.\"\"\"\n",
        "    for rect in rects:\n",
        "        height = rect.get_height()\n",
        "        ax.annotate('{}'.format(height),\n",
        "                    xy=(rect.get_x() + rect.get_width() / 2, height),\n",
        "                    xytext=(0, 3),  # 3 points vertical offset\n",
        "                    textcoords=\"offset points\",\n",
        "                    ha='center', va='bottom')\n",
        "\n",
        "\n",
        "autolabel(rects1)\n",
        "autolabel(rects2)\n",
        "\n",
        "fig.tight_layout()\n",
        "\n",
        "plt.show()"
      ],
      "execution_count": null,
      "outputs": [
        {
          "output_type": "display_data",
          "data": {
            "image/png": "[encoded data removed]",
            "text/plain": [
              "<Figure size 432x288 with 1 Axes>"
            ]
          },
          "metadata": {
            "tags": [],
            "needs_background": "light"
          }
        }
      ]
    },
    {
      "cell_type": "code",
      "metadata": {
        "id": "LBfcI4r5lFLZ",
        "colab_type": "code",
        "colab": {}
      },
      "source": [
        ""
      ],
      "execution_count": null,
      "outputs": []
    }
  ]
}